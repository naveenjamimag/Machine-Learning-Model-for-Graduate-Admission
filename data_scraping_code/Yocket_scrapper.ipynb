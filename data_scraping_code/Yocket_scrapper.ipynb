{
 "cells": [
  {
   "cell_type": "code",
   "execution_count": 121,
   "metadata": {},
   "outputs": [],
   "source": [
    "import requests\n",
    "import pandas as pd\n",
    "from selenium import webdriver\n",
    "import time\n",
    "from bs4 import BeautifulSoup"
   ]
  },
  {
   "cell_type": "markdown",
   "metadata": {},
   "source": [
    "## University Data Scraping\n",
    "\n",
    "1. Getting the links for 15 universities <br>\n",
    "2. Scraping the data for Computer science deapartmant from Yocket website for the 15 Universities"
   ]
  },
  {
   "cell_type": "markdown",
   "metadata": {},
   "source": [
    "## Reading Data from the College Links File"
   ]
  },
  {
   "cell_type": "code",
   "execution_count": 169,
   "metadata": {},
   "outputs": [],
   "source": [
    "df_computer_science = pd.read_csv(r'./Data/University_15_links/College_links.csv')"
   ]
  },
  {
   "cell_type": "code",
   "execution_count": 170,
   "metadata": {},
   "outputs": [
    {
     "data": {
      "text/html": [
       "<div>\n",
       "<style scoped>\n",
       "    .dataframe tbody tr th:only-of-type {\n",
       "        vertical-align: middle;\n",
       "    }\n",
       "\n",
       "    .dataframe tbody tr th {\n",
       "        vertical-align: top;\n",
       "    }\n",
       "\n",
       "    .dataframe thead th {\n",
       "        text-align: right;\n",
       "    }\n",
       "</style>\n",
       "<table border=\"1\" class=\"dataframe\">\n",
       "  <thead>\n",
       "    <tr style=\"text-align: right;\">\n",
       "      <th></th>\n",
       "      <th>Reject_links</th>\n",
       "      <th>Accept_links</th>\n",
       "    </tr>\n",
       "  </thead>\n",
       "  <tbody>\n",
       "    <tr>\n",
       "      <th>0</th>\n",
       "      <td>https://yocket.in/applications-admits-rejects/...</td>\n",
       "      <td>https://yocket.in/applications-admits-rejects/...</td>\n",
       "    </tr>\n",
       "    <tr>\n",
       "      <th>1</th>\n",
       "      <td>https://yocket.in/applications-admits-rejects/...</td>\n",
       "      <td>https://yocket.in/applications-admits-rejects/...</td>\n",
       "    </tr>\n",
       "    <tr>\n",
       "      <th>2</th>\n",
       "      <td>https://yocket.in/applications-admits-rejects/...</td>\n",
       "      <td>https://yocket.in/applications-admits-rejects/...</td>\n",
       "    </tr>\n",
       "    <tr>\n",
       "      <th>3</th>\n",
       "      <td>https://yocket.in/applications-admits-rejects/...</td>\n",
       "      <td>https://yocket.in/applications-admits-rejects/...</td>\n",
       "    </tr>\n",
       "    <tr>\n",
       "      <th>4</th>\n",
       "      <td>https://yocket.in/applications-admits-rejects/...</td>\n",
       "      <td>https://yocket.in/applications-admits-rejects/...</td>\n",
       "    </tr>\n",
       "    <tr>\n",
       "      <th>5</th>\n",
       "      <td>https://yocket.in/applications-admits-rejects/...</td>\n",
       "      <td>https://yocket.in/applications-admits-rejects/...</td>\n",
       "    </tr>\n",
       "    <tr>\n",
       "      <th>6</th>\n",
       "      <td>https://yocket.in/applications-admits-rejects/...</td>\n",
       "      <td>https://yocket.in/applications-admits-rejects/...</td>\n",
       "    </tr>\n",
       "    <tr>\n",
       "      <th>7</th>\n",
       "      <td>https://yocket.in/applications-admits-rejects/...</td>\n",
       "      <td>https://yocket.in/applications-admits-rejects/...</td>\n",
       "    </tr>\n",
       "    <tr>\n",
       "      <th>8</th>\n",
       "      <td>https://yocket.in/applications-admits-rejects/...</td>\n",
       "      <td>https://yocket.in/applications-admits-rejects/...</td>\n",
       "    </tr>\n",
       "    <tr>\n",
       "      <th>9</th>\n",
       "      <td>https://yocket.in/applications-admits-rejects/...</td>\n",
       "      <td>https://yocket.in/applications-admits-rejects/...</td>\n",
       "    </tr>\n",
       "    <tr>\n",
       "      <th>10</th>\n",
       "      <td>https://yocket.in/applications-admits-rejects/...</td>\n",
       "      <td>https://yocket.in/applications-admits-rejects/...</td>\n",
       "    </tr>\n",
       "    <tr>\n",
       "      <th>11</th>\n",
       "      <td>https://yocket.in/applications-admits-rejects/...</td>\n",
       "      <td>https://yocket.in/applications-admits-rejects/...</td>\n",
       "    </tr>\n",
       "    <tr>\n",
       "      <th>12</th>\n",
       "      <td>https://yocket.in/applications-admits-rejects/...</td>\n",
       "      <td>https://yocket.in/applications-admits-rejects/...</td>\n",
       "    </tr>\n",
       "    <tr>\n",
       "      <th>13</th>\n",
       "      <td>https://yocket.in/applications-admits-rejects/...</td>\n",
       "      <td>https://yocket.in/applications-admits-rejects/...</td>\n",
       "    </tr>\n",
       "    <tr>\n",
       "      <th>14</th>\n",
       "      <td>https://yocket.in/applications-admits-rejects/...</td>\n",
       "      <td>https://yocket.in/applications-admits-rejects/...</td>\n",
       "    </tr>\n",
       "  </tbody>\n",
       "</table>\n",
       "</div>"
      ],
      "text/plain": [
       "                                         Reject_links  \\\n",
       "0   https://yocket.in/applications-admits-rejects/...   \n",
       "1   https://yocket.in/applications-admits-rejects/...   \n",
       "2   https://yocket.in/applications-admits-rejects/...   \n",
       "3   https://yocket.in/applications-admits-rejects/...   \n",
       "4   https://yocket.in/applications-admits-rejects/...   \n",
       "5   https://yocket.in/applications-admits-rejects/...   \n",
       "6   https://yocket.in/applications-admits-rejects/...   \n",
       "7   https://yocket.in/applications-admits-rejects/...   \n",
       "8   https://yocket.in/applications-admits-rejects/...   \n",
       "9   https://yocket.in/applications-admits-rejects/...   \n",
       "10  https://yocket.in/applications-admits-rejects/...   \n",
       "11  https://yocket.in/applications-admits-rejects/...   \n",
       "12  https://yocket.in/applications-admits-rejects/...   \n",
       "13  https://yocket.in/applications-admits-rejects/...   \n",
       "14  https://yocket.in/applications-admits-rejects/...   \n",
       "\n",
       "                                         Accept_links  \n",
       "0   https://yocket.in/applications-admits-rejects/...  \n",
       "1   https://yocket.in/applications-admits-rejects/...  \n",
       "2   https://yocket.in/applications-admits-rejects/...  \n",
       "3   https://yocket.in/applications-admits-rejects/...  \n",
       "4   https://yocket.in/applications-admits-rejects/...  \n",
       "5   https://yocket.in/applications-admits-rejects/...  \n",
       "6   https://yocket.in/applications-admits-rejects/...  \n",
       "7   https://yocket.in/applications-admits-rejects/...  \n",
       "8   https://yocket.in/applications-admits-rejects/...  \n",
       "9   https://yocket.in/applications-admits-rejects/...  \n",
       "10  https://yocket.in/applications-admits-rejects/...  \n",
       "11  https://yocket.in/applications-admits-rejects/...  \n",
       "12  https://yocket.in/applications-admits-rejects/...  \n",
       "13  https://yocket.in/applications-admits-rejects/...  \n",
       "14  https://yocket.in/applications-admits-rejects/...  "
      ]
     },
     "execution_count": 170,
     "metadata": {},
     "output_type": "execute_result"
    }
   ],
   "source": [
    "df_computer_science"
   ]
  },
  {
   "cell_type": "code",
   "execution_count": 131,
   "metadata": {},
   "outputs": [
    {
     "name": "stdout",
     "output_type": "stream",
     "text": [
      "Department : Computer Science\n",
      "\n",
      "------------------The list of colleges considered------------------ \n",
      "Northeastern University\n",
      "Illinois Institute of Technology\n",
      "Michigan Technological University\n",
      "Rochester Institute of Technology\n",
      "University of Southern California\n",
      "University of North Carolina Charlotte\n",
      "University of Texas Arlington\n",
      "University of Texas Dallas\n",
      "Syracuse University\n",
      "Clemson University\n",
      "New York University\n",
      "Indiana University-Bloomington\n",
      "Rutgers University New Brunswick/Piscataway\n",
      "San Jose State University\n",
      "University of Florida\n",
      "------------------Accept Links------------------------\n",
      "\n",
      "https://yocket.in/applications-admits-rejects/135-northeastern-university/2\n",
      "https://yocket.in/applications-admits-rejects/16848-illinois-institute-of-technology/2\n",
      "https://yocket.in/applications-admits-rejects/499-michigan-technological-university/2\n",
      "https://yocket.in/applications-admits-rejects/174-rochester-institute-of-technology/2\n",
      "https://yocket.in/applications-admits-rejects/168-university-of-southern-california/2\n",
      "https://yocket.in/applications-admits-rejects/360-university-of-north-carolina-at-charlotte/2\n",
      "https://yocket.in/applications-admits-rejects/344-university-of-texas-arlington/2\n",
      "https://yocket.in/applications-admits-rejects/195-university-of-texas-dallas/2\n",
      "https://yocket.in/applications-admits-rejects/36-syracuse-university/2\n",
      "https://yocket.in/applications-admits-rejects/31939-clemson-university/2\n",
      "https://yocket.in/applications-admits-rejects/588-new-york-university/2\n",
      "https://yocket.in/applications-admits-rejects/365-indiana-university-bloomington/2\n",
      "https://yocket.in/applications-admits-rejects/613-rutgers-university-new-brunswick/2\n",
      "https://yocket.in/applications-admits-rejects/2212-san-jose-state-university/2\n",
      "https://yocket.in/applications-admits-rejects/57961-university-of-florida/2\n",
      "------------------Reject Links------------------------\n",
      "\n",
      "https://yocket.in/applications-admits-rejects/135-northeastern-university/3\n",
      "https://yocket.in/applications-admits-rejects/16848-illinois-institute-of-technology/3\n",
      "https://yocket.in/applications-admits-rejects/499-michigan-technological-university/3\n",
      "https://yocket.in/applications-admits-rejects/174-rochester-institute-of-technology/3\n",
      "https://yocket.in/applications-admits-rejects/168-university-of-southern-california/3\n",
      "https://yocket.in/applications-admits-rejects/360-university-of-north-carolina-at-charlotte/3\n",
      "https://yocket.in/applications-admits-rejects/344-university-of-texas-arlington/3\n",
      "https://yocket.in/applications-admits-rejects/195-university-of-texas-dallas/3\n",
      "https://yocket.in/applications-admits-rejects/36-syracuse-university/3?page=6\n",
      "https://yocket.in/applications-admits-rejects/31939-clemson-university/3?page=2\n",
      "https://yocket.in/applications-admits-rejects/588-new-york-university/3\n",
      "https://yocket.in/applications-admits-rejects/365-indiana-university-bloomington/3\n",
      "https://yocket.in/applications-admits-rejects/613-rutgers-university-new-brunswick/3\n",
      "https://yocket.in/applications-admits-rejects/2212-san-jose-state-university/3\n",
      "https://yocket.in/applications-admits-rejects/57961-university-of-florida/3\n"
     ]
    }
   ],
   "source": [
    "admits_links=[]\n",
    "reject_links = []\n",
    "\n",
    "reject_links = df_computer_science['Reject_links'].tolist()\n",
    "admits_links = df_computer_science['Accept_links'].tolist()\n",
    "required_colleges = ['Northeastern University','Illinois Institute of Technology','Michigan Technological University','Rochester Institute of Technology','University of Southern California','University of North Carolina Charlotte','University of Texas Arlington','University of Texas Dallas','Syracuse University','Clemson University','New York University','Indiana University-Bloomington','Rutgers University New Brunswick/Piscataway','San Jose State University','University of Florida']\n",
    "\n",
    "print('Department : Computer Science' + '\\n')\n",
    "print('------------------The list of colleges considered------------------ ')\n",
    "for college in required_colleges:\n",
    "    print(college)\n",
    "\n",
    "print('------------------Accept Links------------------------' + '\\n')\n",
    "for admit in admits_links:\n",
    "    print(admit)\n",
    "    \n",
    "print('------------------Reject Links------------------------' + '\\n')\n",
    "for reject in reject_links:\n",
    "    print(reject)"
   ]
  },
  {
   "cell_type": "markdown",
   "metadata": {},
   "source": [
    "<b> Accept </b>"
   ]
  },
  {
   "cell_type": "code",
   "execution_count": 101,
   "metadata": {},
   "outputs": [
    {
     "name": "stderr",
     "output_type": "stream",
     "text": [
      "C:\\ProgramData\\Anaconda3\\lib\\site-packages\\ipykernel_launcher.py:12: DeprecationWarning: use options instead of chrome_options\n",
      "  if sys.path[0] == '':\n"
     ]
    }
   ],
   "source": [
    "from selenium import webdriver\n",
    "from selenium.webdriver.chrome.options import Options\n",
    "from fake_useragent import UserAgent\n",
    "\n",
    "options = Options()\n",
    "ua = UserAgent()\n",
    "userAgent = ua.random\n",
    "\n",
    "options.add_argument(f'user-agent={userAgent}')\n",
    "driver = webdriver.Chrome(chrome_options=options, executable_path = '.\\chrome_driver\\chromedriver.exe')\n",
    "\n",
    "driver.get('https://yocket.in/')\n",
    "time.sleep(50)\n",
    "for url in admits_links:\n",
    "    for i in range(1,7):\n",
    "        driver.get(url + '?page=' + str(i))\n",
    "        html = driver.page_source\n",
    "        soup = BeautifulSoup(html)\n",
    "        name_containers = soup.find_all('div', class_ = 'col-sm-6')\n",
    "        for i in name_containers:\n",
    "            k =(i.div.text)\n",
    "            t=[i for i in k.strip().split(\"\\n\") if len(i) is not 0]\n",
    "            temp.append(t)\n",
    "        time.sleep(15)\n",
    "        r_accept= pd.DataFrame(temp)\n",
    "r.rename(columns={0: 'student_name', 1: 'University_name', 2: 'year_applying', 3: 'Status',4: 'GRE',5: 'GRE_SCORE',6: 'Eng_test',7:'Test_score',8: 'Undergraduation',9: 'Undergraduation_score',10: 'is_work_ex', 11: 'work_ex'}, inplace=True)\n",
    "r.to_csv('.\\Data\\Yocket_Acccept_University_student_data.csv')"
   ]
  },
  {
   "cell_type": "markdown",
   "metadata": {},
   "source": [
    "<b> Reject </b>\n"
   ]
  },
  {
   "cell_type": "code",
   "execution_count": 103,
   "metadata": {},
   "outputs": [],
   "source": [
    "from selenium import webdriver\n",
    "from selenium.webdriver.chrome.options import Options\n",
    "from fake_useragent import UserAgent\n",
    "\n",
    "options = Options()\n",
    "ua = UserAgent()\n",
    "userAgent = ua.random\n",
    "\n",
    "options.add_argument(f'user-agent={userAgent}')\n",
    "driver = webdriver.Chrome(chrome_options=options, executable_path = '.\\chrome_driver\\chromedriver.exe')\n",
    "\n",
    "driver.get('https://yocket.in/')\n",
    "time.sleep(50)\n",
    "for url in reject_links:\n",
    "    for i in range(1,7):\n",
    "        driver.get(url + '?page=' + str(i))\n",
    "        html = driver.page_source\n",
    "        soup = BeautifulSoup(html)\n",
    "        name_containers = soup.find_all('div', class_ = 'col-sm-6')\n",
    "        for i in name_containers:\n",
    "            k =(i.div.text)\n",
    "            t=[i for i in k.strip().split(\"\\n\") if len(i) is not 0]\n",
    "            temp.append(t)\n",
    "        time.sleep(15)\n",
    "        r_reject= pd.DataFrame(temp)\n",
    "\n",
    "r.rename(columns={0: 'student_name', 1: 'University_name', 2: 'year_applying', 3: 'Status',4: 'GRE',5: 'GRE_SCORE',6: 'Eng_test',7:'Test_score',8: 'Undergraduation',9: 'Undergraduation_score',10: 'is_work_ex', 11: 'work_ex'}, inplace=True)\n",
    "r.to_csv('.\\Data\\Yocket_Reject_University_student_data.csv')"
   ]
  },
  {
   "cell_type": "markdown",
   "metadata": {},
   "source": [
    "<b> Accept CSV file in Computer Science for 15 Universities </b>\n"
   ]
  },
  {
   "cell_type": "code",
   "execution_count": 162,
   "metadata": {},
   "outputs": [],
   "source": [
    "Yocket_Accept_data_all_college = pd.read_csv(r'.\\Data\\Yocket_Acccept_University_student_data.csv')"
   ]
  },
  {
   "cell_type": "code",
   "execution_count": 163,
   "metadata": {},
   "outputs": [],
   "source": [
    "Yocket_Accept_data_all_college.drop(columns =['Unnamed: 0'], inplace = True)"
   ]
  },
  {
   "cell_type": "code",
   "execution_count": 164,
   "metadata": {},
   "outputs": [
    {
     "data": {
      "text/plain": [
       "university_name                                             Status\n",
       " Illinois Institute of Technology Computer Science          Admit       1\n",
       " Indiana University Bloomington Computer Science            Admit       1\n",
       " New York University Computer Science                       Admit       2\n",
       "Clemson University Computer Science                         Admit      76\n",
       "Fall 2019                                                   GRE         1\n",
       "Illinois Institute of Technology Computer Science           Admit     119\n",
       "Indiana University Bloomington Computer Science             Admit     119\n",
       "Michigan Technological University Computer Science          Admit     102\n",
       "New York University Computer Science                        Admit     118\n",
       "Northeastern University Computer Science                    Admit     120\n",
       "Rochester Institute of Technology Computer Science          Admit     120\n",
       "Rutgers University-New Brunswick Computer Science           Admit     120\n",
       "San Jose State University Computer Science                  Admit     120\n",
       "Syracuse University Computer Science                        Admit     120\n",
       "University of Florida Computer Science                      Admit      80\n",
       "University of North Carolina at Charlotte Computer Science  Admit     120\n",
       "University of Southern California Computer Science          Admit     120\n",
       "University of Texas at Arlington Computer Science           Admit     120\n",
       "University of Texas at Dallas Computer Science              Admit     120\n",
       "Name: Status, dtype: int64"
      ]
     },
     "execution_count": 164,
     "metadata": {},
     "output_type": "execute_result"
    }
   ],
   "source": [
    "Yocket_Accept_data_all_college.groupby(by=['university_name'])['Status'].value_counts()"
   ]
  },
  {
   "cell_type": "markdown",
   "metadata": {},
   "source": [
    "<b> Yocket : Reject CSV file in Computer Science for 15 Universities </b>\n"
   ]
  },
  {
   "cell_type": "code",
   "execution_count": 165,
   "metadata": {},
   "outputs": [],
   "source": [
    "Yocket_Reject_data_all_college = pd.read_csv(r'.\\Data\\Yocket_Reject_University_student_data.csv')"
   ]
  },
  {
   "cell_type": "code",
   "execution_count": 166,
   "metadata": {},
   "outputs": [],
   "source": [
    "Yocket_Reject_data_all_college.drop(columns =['Unnamed: 0'], inplace = True)"
   ]
  },
  {
   "cell_type": "code",
   "execution_count": 167,
   "metadata": {},
   "outputs": [
    {
     "data": {
      "text/plain": [
       "university_name                                             Status\n",
       " Indiana University Bloomington Computer Science            Reject      1\n",
       " Northeastern University Computer Science                   Reject      1\n",
       "Clemson University Computer Science                         Reject     40\n",
       "Fall 2019                                                   GRE         1\n",
       "Illinois Institute of Technology Computer Science           Reject     80\n",
       "Indiana University Bloomington Computer Science             Reject     68\n",
       "Michigan Technological University Computer Science          Reject     44\n",
       "New York University Computer Science                        Reject    120\n",
       "Northeastern University Computer Science                    Reject    125\n",
       "Rochester Institute of Technology Computer Science          Reject    100\n",
       "Rutgers University-New Brunswick Computer Science           Reject    119\n",
       "San Jose State University Computer Science                  Reject    120\n",
       "Syracuse University Computer Science                        Reject    120\n",
       "University of Florida Computer Science                      Reject     40\n",
       "University of North Carolina at Charlotte Computer Science  Reject    100\n",
       "University of Southern California Computer Science          Reject    100\n",
       "University of Texas at Arlington Computer Science           Reject    100\n",
       "University of Texas at Dallas Computer Science              Reject    240\n",
       "Name: Status, dtype: int64"
      ]
     },
     "execution_count": 167,
     "metadata": {},
     "output_type": "execute_result"
    }
   ],
   "source": [
    "Yocket_Reject_data_all_college.groupby(by=['university_name'])['Status'].value_counts()"
   ]
  }
 ],
 "metadata": {
  "kernelspec": {
   "display_name": "Python 3",
   "language": "python",
   "name": "python3"
  },
  "language_info": {
   "codemirror_mode": {
    "name": "ipython",
    "version": 3
   },
   "file_extension": ".py",
   "mimetype": "text/x-python",
   "name": "python",
   "nbconvert_exporter": "python",
   "pygments_lexer": "ipython3",
   "version": "3.7.1"
  }
 },
 "nbformat": 4,
 "nbformat_minor": 2
}
